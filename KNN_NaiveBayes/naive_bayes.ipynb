{
 "cells": [
  {
   "cell_type": "markdown",
   "metadata": {},
   "source": [
    "Makaylah Cowan\n",
    "\n",
    "Spring 2020\n",
    "\n",
    "CS 251: Data Analysis and Visualization\n",
    "\n",
    "Supervised learning"
   ]
  },
  {
   "cell_type": "code",
   "execution_count": 6,
   "metadata": {},
   "outputs": [
    {
     "name": "stdout",
     "output_type": "stream",
     "text": [
      "The autoreload extension is already loaded. To reload it, use:\n",
      "  %reload_ext autoreload\n"
     ]
    }
   ],
   "source": [
    "import os\n",
    "import random\n",
    "import numpy as np\n",
    "import matplotlib.pyplot as plt\n",
    "import pandas as pd\n",
    "\n",
    "plt.style.use(['seaborn-colorblind', 'seaborn-darkgrid'])\n",
    "plt.rcParams.update({'font.size': 20})\n",
    "\n",
    "np.set_printoptions(suppress=True, precision=5)\n",
    "\n",
    "# Automatically reload external modules\n",
    "%load_ext autoreload\n",
    "%autoreload 2"
   ]
  },
  {
   "cell_type": "markdown",
   "metadata": {},
   "source": [
    "## Task 3: Naive Bayes Classifier\n",
    "\n",
    "After finishing your email preprocessing pipeline, implement the one other supervised learning algorithm we we will use to classify email, **Naive Bayes**."
   ]
  },
  {
   "cell_type": "markdown",
   "metadata": {},
   "source": [
    "### 3a) Implement Naive Bayes\n",
    "\n",
    "In `naive_bayes.py`, implement the following methods:\n",
    "- Constructor\n",
    "- `train(data, y)`: Train the Naive Bayes classifier so that it records the \"statistics\" of the training set: class priors (i.e. how likely an email is in the training set to be spam or ham?) and the class likelihoods (the probability of a word appearing in each class — spam or ham).\n",
    "- `predict(data)`: Combine the class likelihoods and priors to compute the posterior distribution. The predicted class for a test sample is the class that yields the highest posterior probability.\n",
    "- `accuracy(y, y_pred)`: The usual definition :)\n",
    "\n",
    "\n",
    "#### Bayes rule ingredients: Priors and likelihood (`train`)\n",
    "\n",
    "To compute class predictions (probability that a test example belong to either spam or ham classes), we need to evaluate **Bayes Rule**. This means computing the priors and likelihoods based on the training data.\n",
    "\n",
    "**Prior:** $$P_c = \\frac{N_c}{N}$$ where $P_c$ is the prior for class $c$ (spam or ham), $N_c$ is the number of training samples that belong to class $c$ and $N$ is the total number of training samples.\n",
    "\n",
    "**Likelihood:** $$L_{c,w} = \\frac{N_{c,w} + 1}{N_{c} + M}$$ where\n",
    "- $L_{c,w}$ is the likelihood that word $w$ belongs to class $c$ (*i.e. what we are solving for*)\n",
    "- $N_{c,w}$ is the total count of **word $w$** in emails that are only in class $c$ (*either spam or ham*)\n",
    "- $N_{c}$ is the total number of **all words** that appear in emails of the class $c$ (*total number of words in all spam emails or total number of words in all ham emails*)\n",
    "- $M$ is the number of features (*number of top words*).\n",
    "\n",
    "#### Bayes rule ingredients: Posterior (`predict`)\n",
    "\n",
    "To make predictions, we now combine the prior and likelihood to get the posterior:\n",
    "\n",
    "**Posterior:** $$\\text{Post}_{i, c} = Log(P_c) + \\sum_{j \\in J_i}Log(L_{c,j})$$ where\n",
    "- $\\text{Post}_c$ is the posterior for class $c$ for test sample $i$(*i.e. evidence that email $i$ is spam or ham*). What we are solving for.\n",
    "- $Log(P_c)$ is the logarithm of the prior for class $c$ $P_c$.\n",
    "- $j \\in J_i$ (under the sum) indexes the set of words in the current test sample that have nonzero counts (*i.e. which words show up in the current test set email $i$? $j$ is the index of each of these words.*)\n",
    "- $\\sum_{j \\in J_i}Log(L_{c,j})$: we sum over the log-likelihoods ONLY PERTAINING TO CLASS $c$ at word word indices that appear in the current test email $i$ (i.e. indices at which the counts are > 0)."
   ]
  },
  {
   "cell_type": "code",
   "execution_count": 40,
   "metadata": {},
   "outputs": [],
   "source": [
    "from naive_bayes_multinomial import NaiveBayes"
   ]
  },
  {
   "cell_type": "markdown",
   "metadata": {},
   "source": [
    "#### Test `train`"
   ]
  },
  {
   "cell_type": "code",
   "execution_count": 215,
   "metadata": {
    "scrolled": true
   },
   "outputs": [
    {
     "name": "stdout",
     "output_type": "stream",
     "text": [
      "Your class priors are: [0.24 0.26 0.25 0.25]\n",
      "and should be          [0.24 0.26 0.25 0.25].\n",
      "Your class likelihoods shape is (4, 6) and should be (4, 6).\n",
      "Your likelihoods are:\n",
      "[[0.15116 0.18497 0.17571 0.1463  0.16813 0.17374]\n",
      " [0.16695 0.17437 0.15742 0.16887 0.15677 0.17562]\n",
      " [0.14116 0.1562  0.19651 0.17046 0.17951 0.15617]\n",
      " [0.18677 0.18231 0.15884 0.12265 0.16755 0.18187]]\n",
      "and should be\n",
      "[[0.15116 0.18497 0.17571 0.1463  0.16813 0.17374]\n",
      " [0.16695 0.17437 0.15742 0.16887 0.15677 0.17562]\n",
      " [0.14116 0.1562  0.19651 0.17046 0.17951 0.15617]\n",
      " [0.18677 0.18231 0.15884 0.12265 0.16755 0.18187]]\n"
     ]
    }
   ],
   "source": [
    "num_test_classes = 4\n",
    "np.random.seed(0)\n",
    "data_test = np.random.random(size=(100, 6))\n",
    "y_test = np.random.randint(low=0, high=num_test_classes, size=(100,))\n",
    "nbc = NaiveBayes(num_classes=num_test_classes)\n",
    "nbc.train(data_test, y_test)\n",
    "\n",
    "print(f'Your class priors are: {nbc.class_priors}\\n.')\n",
    "print(f'Your class likelihoods shape is {nbc.class_likelihoods.shape}.')\n",
    "print(f'Your likelihoods are:\\n{nbc.class_likelihoods}')"
   ]
  },
  {
   "cell_type": "markdown",
   "metadata": {},
   "source": [
    "#### Test `predict`"
   ]
  },
  {
   "cell_type": "code",
   "execution_count": 217,
   "metadata": {},
   "outputs": [
    {
     "name": "stdout",
     "output_type": "stream",
     "text": [
      "Your predicted classes are [2 2 2 2] and should be [2 2 2 2].\n"
     ]
    }
   ],
   "source": [
    "num_test_classes = 4\n",
    "np.random.seed(0)\n",
    "data_train = np.random.random(size=(100, 10))\n",
    "data_test = np.random.random(size=(4, 10))\n",
    "y_test = np.random.randint(low=0, high=num_test_classes, size=(100,))\n",
    "\n",
    "nbc = NaiveBayes(num_classes=num_test_classes)\n",
    "nbc.train(data_train, y_test)\n",
    "test_y_pred = nbc.predict(data_test)\n",
    "\n",
    "print(f'Your predicted classes are {test_y_pred}'')"
   ]
  },
  {
   "cell_type": "markdown",
   "metadata": {},
   "source": [
    "### 3c) Spam filtering\n",
    "\n",
    "Let's start classifying spam email using the Naive Bayes classifier.\n",
    "\n",
    "- Use `np.load` to load in the train/test split that you created last week.\n",
    "- Use your Naive Bayes classifier on the Enron email dataset!"
   ]
  },
  {
   "cell_type": "markdown",
   "metadata": {},
   "source": [
    "**Question 9:** What accuracy do you get on the test set with Naive Bayes?\n",
    "89% accuracy"
   ]
  },
  {
   "cell_type": "code",
   "execution_count": 245,
   "metadata": {},
   "outputs": [],
   "source": [
    "import retrieve_emails as ep"
   ]
  },
  {
   "cell_type": "code",
   "execution_count": 226,
   "metadata": {},
   "outputs": [],
   "source": [
    "# Load your training and test data into numpy ndarrays using np.load()\n",
    "# (the files you created at the end of the previous notebook)\n",
    "classes = np.load(\"email_data/email_classes.npy\")\n",
    "features = np.load(\"email_data/email_features.npy\")\n",
    "test_x = np.load(\"email_data/email_test_x.npy\")\n",
    "test_y = np.load(\"email_data/email_test_y.npy\")\n",
    "train_x = np.load(\"email_data/email_train_x.npy\")\n",
    "train_y = np.load(\"email_data/email_train_y.npy\")\n",
    "test_ind = np.load(\"email_data/email_test_inds.npy\")\n",
    "train_ind = np.load(\"email_data/email_train_inds.npy\")"
   ]
  },
  {
   "cell_type": "code",
   "execution_count": 301,
   "metadata": {},
   "outputs": [],
   "source": [
    "# Construct your classifier\n",
    "NB1 = NaiveBayes(len(np.unique(classes)))"
   ]
  },
  {
   "cell_type": "code",
   "execution_count": 315,
   "metadata": {},
   "outputs": [
    {
     "name": "stdout",
     "output_type": "stream",
     "text": [
      "Naive Bayes Accuracy: 0.8902\n"
     ]
    }
   ],
   "source": [
    "# Train and test your classifier\n",
    "NB1.train(train_x, train_y)\n",
    "pred = NB1.predict(test_x)\n",
    "accNB = NB1.accuracy(test_y, pred)\n",
    "print(\"Naive Bayes Accuracy:\",round(accNB,4))"
   ]
  },
  {
   "cell_type": "markdown",
   "metadata": {},
   "source": [
    "### 3d) Confusion matrix\n",
    "\n",
    "To get a better sense of the errors that the Naive Bayes classifer makes, you will create a confusion matrix. \n",
    "\n",
    "- Implement `confusion_matrix` in `naive_bayes.py`.\n",
    "- Print out a confusion matrix of the spam classification results."
   ]
  },
  {
   "cell_type": "code",
   "execution_count": 229,
   "metadata": {},
   "outputs": [
    {
     "name": "stdout",
     "output_type": "stream",
     "text": [
      "[[3237.  175.]\n",
      " [ 565. 2763.]]\n"
     ]
    }
   ],
   "source": [
    "print(NB1.confusion_matrix(test_y, pred))"
   ]
  },
  {
   "cell_type": "markdown",
   "metadata": {},
   "source": [
    "**Question 10:** Interpret the confusion matrix, using the convention that positive detection means spam (*e.g. a false positive means classifying a ham email as spam*). What types of errors are made more frequently by the classifier? What does this mean (*i.e. X (spam/ham) is more likely to be classified than Y (spam/ham) than the other way around*)?\n",
    "\n",
    "\n",
    "**Reminder: Look back at your preprocessing code: which class indices correspond to spam/ham?**\n",
    "\n",
    "**Answer 10:** The classifier correctly identified 3237 spam emails and 2763 ham emails, but it incorrectly labeled 565 ham emails as spam and 175 spam emails as ham. The error it made more frequently was labeling ham emails as spam. This means it is better at classifying spam emails."
   ]
  },
  {
   "cell_type": "markdown",
   "metadata": {},
   "source": [
    "### 3e) Investigate the misclassification errors\n",
    "\n",
    "Numbers are nice, but they may not the best for developing your intuition. Sometimes, you want to see what an misclassification *actually* looks like to build your understanding as you look to improve your algorithm. Here, you will take a false positive and a false negative misclassification and retrieve the actual text of the email so see which emails produced the error.\n",
    "\n",
    "- Determine the index of the **FIRST** false positive and false negative misclassification — i.e. 2 indices in total. Remember to use your inds array to figure out the index of the emails BEFORE shuffling happened.\n",
    "- **Section B:** Implement the function `retrieve_emails` in `email_preprocessor.py` to return the string of the raw email at the error indices. (**Sections A/C** have been supplied with this function on Classroom.)\n",
    "- Call your function to print out the two emails that produced misclassifications."
   ]
  },
  {
   "cell_type": "markdown",
   "metadata": {},
   "source": [
    "**Question 11:** What do you think it is about each email that resulted in it being misclassified?\n",
    "\n",
    "**Answer 11:** The false positive email is very very long with numbers scattered throughout. The false negative email has full sentences with sound use of punctation."
   ]
  },
  {
   "cell_type": "code",
   "execution_count": 321,
   "metadata": {},
   "outputs": [],
   "source": [
    "# Determine the indices of the 1st FP and FN.\n",
    "# Note: spam = 0, ham = 1\n",
    "fp, fn = NB1.fp_fn(test_y, pred)\n"
   ]
  },
  {
   "cell_type": "code",
   "execution_count": 322,
   "metadata": {
    "scrolled": false
   },
   "outputs": [
    {
     "name": "stdout",
     "output_type": "stream",
     "text": [
      "Discovered class names: ['ham', 'spam']\n",
      "Processing data/enron/ham...\n",
      "Processing data/enron/spam...\n",
      "\n",
      "The 1st email that is a false positive (classified as spam, but really not) is:\n",
      "------------------------------------------------------------------------------------------\n",
      "Subject: california power 2 / 8\n",
      "please contact kristin walsh ( x 39510 ) or robert johnston ( x 39934 ) for further clarification .\n",
      "executive summary :\n",
      "utility bankruptcy appears increasingly likely next week unless the state can clear three hurdles - agreement on payback for the bailout , rate increases , and further short - term funding for dwr purchases of power .\n",
      "disagreement persists between gov . davis and democrats in the legislature on how the state should be paid back for its bailout of the utilities . the split is over a stock warrant plan versus state ownership of utility transmission assets .\n",
      "the economics of the long - term contracts appear to show that rate hikes are unavoidable because of the need to amortize the undercollected rates of the utilities during the recent rate freeze period .\n",
      "air quality management district regulations are under review , but offer limited scope for providing additional generation capacity .\n",
      "legislature democrats are feeling intense pressure from the left - wing consumer groups and are being forced to at least slow , if not stop , davis ' s bailout and rate hike plans . senator burton ' s eminent domain threats against generators , which reflect this pressure , are of little significance .\n",
      "1 . bankruptcy outlook rising once again\n",
      "a deal to finalize a debt workout continues to be just beyond the reach of the state , the utilities , and their creditors , with time running out on the debt forbearance arrangement set to expire on tuesday .\n",
      "socal edison and pg & e are not paying any of their bills except for payroll . they are working very hard to keep cash on - hand , and have indicated that they feel that they are very close to an involuntary bankruptcy filing . once this filing occurs , they will have 50 days until either the bankruptcy court accepts the filing or the utilities file a voluntary bankruptcy .\n",
      "opinion within the assembly is divided with respect to the outlook for bankruptcy . assemblyman keeley told our source that a filing is likely , but that everything will be resolved during that 50 - day period . senator john burton \" is in no hurry \" to reach a deal with the utilities , as he believes that the state of california is in a good position to \" strong - arm \" the utilities . burton currently does not intend to cede to the utilities so that they can avoid bankruptcy . the senator stated , \" bankruptcy would be bad , but not the worst thing possible . \" he intends to stick to his position . senator burton also dismissed governor davis ' end - of - week deadline for striking a deal with the utilities .\n",
      "still , bankruptcy can be avoided if a last - minute deal can be struck monday on :\n",
      "what the state receives in return for the bailout\n",
      "the scope of rate hikes ( a federal court is expected to rule on the pg & e / socal v . cpuc rate undercollection case monday )\n",
      "additional financing is made available to the dwr to buy more power until the revenue bonds can be issued in may .\n",
      "there is a possibility that significant progress on these issues could lead to a further extension of creditor forbearance . however , the negative tone taken by standard & poors and others concerning delays in the legislature suggest that further forbearance will difficult to achieve . the previous forbearance period was only achieved via a high - level washington summit which does not appear likely to happen this weekend .\n",
      "additional financing for dwr will not be automatically approved by the legislature . the non - energy expenditures of the california government are now at risk , as there is not yet a rate structure in place to recover the costs being expended on power from the general fund .\n",
      "2 . state to take 2 / 3 of utility debt\n",
      "while the state seems to have succeeded in forcing the utility parents to eat close to one third of the $ 12 billion debt , a final deal has been held up on two fronts . first , it is still unclear what the state will get in return for the utility debt . it is possible that there will be a mix of stock warrants and / or transmission assets . a takeover of the transmission assets seems more likely than a takeover of the hydro assets . the value of these assets still has not been settled . second , while the state will be on the hook for $ 9 billion , it is not clear what mixture of rate hikes and revenue bonds will be used to recover the cost of the bailout . finally , expect davis and other california politicians to work to minimize rate hikes ( although the edison / pg & e v . cpuc case on monday is likely to force their hand here ) and to do everything possible to avoid the appearance of a bailout . the tangible transmission assets are more politically attractive than the nebulous stock warrants .\n",
      "no price has been set at which the state would purchase the utilities ' transmission assets , which are currently valued at approximately $ 7 - $ 8 billion . all of the proceeds though cannot be used to pay off the utilities ' debts , as some of the money would go to existing bondholders . however , ipp sources advise that there is already a bid on the table for these transmission assets that is higher than what the state would offer .\n",
      "3 . long - term contracts\n",
      "as noted by the governor in his announcement tuesday , only 500 mw of the 5 , 000 mw of power contracted for can come on - line immediately . much of the remainder reportedly was contracted in long - term purchases from suppliers who are building power plants . some of this will come on - line in approximately two years .\n",
      "assemblyman keeley expressed frustration that he has received a \" tablet from on high \" from governor davis that there must not be a rate increase . this means that the state must acquire power , not from internal sources or from the market , but through long - term contracts at 7 . 39 cents / kwh . this allows 1 . 213 cents to amortize socal edison ' s undercollection from the recent rate freeze period . ( the number is slightly different for pg & e . ) this assumption is based on a natural gas price of $ 7 . 90 in 2001 and $ 5 . 15 in 2005 , and an efficiency heating rate of 10 , 000 - 12 , 000 in 2001 and 7 , 200 in 2005 .\n",
      "these numbers were quoted to industry sources , who felt they were unrealistic . these sources quoted the 2001 price of natural gas as $ 9 . 00 - $ 9 . 50 . the sources agreed with keeley ' s number for the 2001 efficiency heating rate , but they felt that 7 , 200 in 2005 was very optimistic unless an enormous amount of new generation capacity comes on line .\n",
      "according to keeley ' s numbers and assuming the filed rate case is settled at $ 7 billion rather than $ 12 billion , it would take 5 to 6 years to amortize all of the utility undercollection . a settlement to this case will need to be reached so that the state can figure out how much to charge for power in order to amortize the undercollection . however , since assemblyman keeley ' s numbers are unrealistic , a rate increase will be necessary .\n",
      "4 . air quality district exemptions\n",
      "there have been a few bills introduced to provide exemptions from aqmd ( air quality management district ) regulations - - ab 20 x , ab 28 x , ab 31 x . also , republicans have been asking the governor to lift the environmental regulations and immediately site the facility in san jose that was denied by the local government .\n",
      "currently there is no contemplation of loosening the aqmd compliance restrictions . the legislature will not allow \" dirtier \" plants to\n",
      "come on - line . however , there might be a change in the means of implementation in southern california by moving away from the\n",
      "use of credits ( this apparently drives up the cost of gas - fired power ) .\n",
      "5 . democratic moderates pressured by consumer advocates\n",
      "the moderate left ( sen . burton , the puc , consumer activists ) is afraid of harvey rosenfield and his consumers movement . this is not just because of his initiative . more important from their perspective , his initiative puts him and the far left in a position to challenge and defeat the moderates in the next election . thus , democrats in the legislature will feel pressured to distance themselves from davis and slow down any further rate increases or bailout .\n",
      "6 . eminent domain would have a limited effect\n",
      "the threats by burton to seize generation assets to insure continued power supply are limited . they only apply to california suppliers . a\n",
      "federal order would be needed to seize assets from out - of - state suppliers . there are also canadian suppliers ( such as bc hydro ) who are essentially untouchable .\n",
      "7 . smaller ipps feeling the squeeze\n",
      "many of the smaller ipps , which account for approximately 2500 mw of production , appear to be within a few days of running out of cash .\n",
      "ab lx may be amended , possibly sometime this week , to give the smaller producers credit support .\n",
      "------------------------------------------------------------------------------------------\n",
      "The 1st email that is a false negative (classified as ham, but really spam) is:\n",
      "------------------------------------------------------------------------------------------\n",
      "Subject: global risk management operations\n",
      "congrats !\n",
      "brian\n",
      "- - - - - - - - - - - - - - - - - - - - - - forwarded by brian redmond / hou / ect on 01 / 17 / 2000 06 : 37\n",
      "pm - - - - - - - - - - - - - - - - - - - - - - - - - - -\n",
      "enron north america corp .\n",
      "from : rick causey @ enron 01 / 17 / 2000 06 : 04 pm\n",
      "sent by : enron announcements @ enron\n",
      "to : all enron worldwide\n",
      "cc :\n",
      "subject : global risk management operations\n",
      "recognizing enron \u0001 , s increasing worldwide presence in the wholesale energy\n",
      "business and the need to insure outstanding internal controls for all of our\n",
      "risk management activities , regardless of location , a global risk management\n",
      "operations function has been created under the direction of sally w . beck ,\n",
      "vice president . in this role , sally will report to rick causey , executive\n",
      "vice president and chief accounting officer .\n",
      "sally \u0001 , s responsibilities with regard to global risk management operations\n",
      "will mirror those of other recently created enron global functions . in this\n",
      "role , sally will work closely with all enron geographic regions and wholesale\n",
      "companies to insure that each entity receives individualized regional support\n",
      "while also focusing on the following global responsibilities :\n",
      "1 . enhance communication among risk management operations professionals .\n",
      "2 . assure the proliferation of best operational practices around the globe .\n",
      "3 . facilitate the allocation of human resources .\n",
      "4 . provide training for risk management operations personnel .\n",
      "5 . coordinate user requirements for shared operational systems .\n",
      "6 . oversee the creation of a global internal control audit plan for risk\n",
      "management activities .\n",
      "7 . establish procedures for opening new risk management operations offices\n",
      "and create key benchmarks for measuring on - going risk controls .\n",
      "each regional operations team will continue its direct reporting relationship\n",
      "within its business unit , and will collaborate with sally in the delivery of\n",
      "these critical items . the houston - based risk management operations team under\n",
      "sue frusco \u0001 , s leadership , which currently supports risk management activities\n",
      "for south america and australia , will also report directly to sally .\n",
      "sally retains her role as vice president of energy operations for enron\n",
      "north america , reporting to the ena office of the chairman . she has been in\n",
      "her current role over energy operations since 1997 , where she manages risk\n",
      "consolidation and reporting , risk management administration , physical product\n",
      "delivery , confirmations and cash management for ena \u0001 , s physical commodity\n",
      "trading , energy derivatives trading and financial products trading .\n",
      "sally has been with enron since 1992 , when she joined the company as a\n",
      "manager in global credit . prior to joining enron , sally had four years\n",
      "experience as a commercial banker and spent seven years as a registered\n",
      "securities principal with a regional investment banking firm . she also owned\n",
      "and managed a retail business for several years .\n",
      "please join me in supporting sally in this additional coordination role for\n",
      "global risk management operations .\n",
      "------------------------------------------------------------------------------------------\n"
     ]
    }
   ],
   "source": [
    "# Use retrieve_emails() to display the first FP and FN.f\\\n",
    "inds = np.array([fp, fn])\n",
    "emails = ep.retrieve_emails(inds)\n",
    "\n",
    "print()\n",
    "print('The 1st email that is a false positive (classified as spam, but really not) is:')\n",
    "print('------------------------------------------------------------------------------------------')\n",
    "print(emails[0])\n",
    "print('------------------------------------------------------------------------------------------')\n",
    "print('The 1st email that is a false negative (classified as ham, but really spam) is:')\n",
    "print('------------------------------------------------------------------------------------------')\n",
    "print(emails[1])\n",
    "print('------------------------------------------------------------------------------------------')"
   ]
  },
  {
   "cell_type": "markdown",
   "metadata": {},
   "source": [
    "## Task 4) Comparison with KNN\n",
    "\n",
    "\n",
    "- Run a similar analysis to what you did with Naive Bayes above. When computing accuracy on the test set, you may want to reduce the size of the test set (e.g. to the first 500 emails in the test set).\n",
    "- Copy-paste your `confusion_matrix` method into `knn.py` so that you can run the same analysis on a KNN classifier."
   ]
  },
  {
   "cell_type": "code",
   "execution_count": 193,
   "metadata": {},
   "outputs": [],
   "source": [
    "from knn import KNN"
   ]
  },
  {
   "cell_type": "code",
   "execution_count": 200,
   "metadata": {},
   "outputs": [],
   "source": [
    "# Construct and train your KNN classifier\n",
    "nc = len(np.unique(classes))\n",
    "knn = KNN(num_classes=nc)\n",
    "knn.train(train_x, train_y)"
   ]
  },
  {
   "cell_type": "code",
   "execution_count": 196,
   "metadata": {},
   "outputs": [
    {
     "name": "stdout",
     "output_type": "stream",
     "text": [
      "Accuracy: 0.906\n"
     ]
    }
   ],
   "source": [
    "# Evaluate the accuracy of the KNN classifier\n",
    "y_pred = knn.predict(test_x[:500,:], 10 )\n",
    "accknn = knn.accuracy(test_y[:500], y_pred)\n",
    "print(\"Accuracy:\", accknn)"
   ]
  },
  {
   "cell_type": "code",
   "execution_count": 202,
   "metadata": {},
   "outputs": [
    {
     "name": "stdout",
     "output_type": "stream",
     "text": [
      "[[251.  13.]\n",
      " [ 34. 202.]]\n"
     ]
    }
   ],
   "source": [
    "print(knn.confusion_matrix(test_y[:500], y_pred))"
   ]
  },
  {
   "cell_type": "markdown",
   "metadata": {},
   "source": [
    "**Question 12:** What accuracy did you get on the test set (potentially reduced in size)?\n",
    "\n",
    "**Answer 12:** It was reduced to 500 emails, and it had an accuracy of 91%.\n",
    "\n",
    "**Question 13:** How does the confusion matrix compare to that obtained by Naive Bayes?\n",
    "\n",
    "**Answer 13:** (Proportionally) there are slightly less emails that were misclassified for the KNN classifier. They both were able to identify emails that were spam better than they were able to identify emails that were ham.\n",
    "\n",
    "**Question 14:** Briefly describe at least one pro/con of KNN compared to Naive Bayes on this dataset.\n",
    "\n",
    "**Answer 14:** Con: KNN takes much longer on this dataset because it makes a lot more distance calculations.\n",
    "Pro: KNN is more accurate.\n",
    "\n",
    "**Question 15:** When potentially reducing the size of the test set here, why is it important that we shuffled our train and test set?\n",
    "\n",
    "\n",
    "**Answer 15:** This is to make sure to eliminate any potential biases in how the emails were compiled."
   ]
  },
  {
   "cell_type": "code",
   "execution_count": null,
   "metadata": {},
   "outputs": [],
   "source": []
  }
 ],
 "metadata": {
  "kernelspec": {
   "display_name": "Python 3",
   "language": "python",
   "name": "python3"
  },
  "language_info": {
   "codemirror_mode": {
    "name": "ipython",
    "version": 3
   },
   "file_extension": ".py",
   "mimetype": "text/x-python",
   "name": "python",
   "nbconvert_exporter": "python",
   "pygments_lexer": "ipython3",
   "version": "3.7.6"
  }
 },
 "nbformat": 4,
 "nbformat_minor": 2
}
